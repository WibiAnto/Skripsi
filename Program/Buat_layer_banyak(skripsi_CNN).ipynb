{
  "nbformat": 4,
  "nbformat_minor": 0,
  "metadata": {
    "colab": {
      "provenance": []
    },
    "kernelspec": {
      "name": "python3",
      "display_name": "Python 3"
    },
    "language_info": {
      "name": "python"
    }
  },
  "cells": [
    {
      "cell_type": "code",
      "execution_count": null,
      "metadata": {
        "colab": {
          "base_uri": "https://localhost:8080/"
        },
        "id": "cj8ue-CwD0WO",
        "outputId": "a8c7e01a-8872-42bd-9090-abed7c907630"
      },
      "outputs": [
        {
          "output_type": "stream",
          "name": "stdout",
          "text": [
            "1\n",
            "2\n",
            "3\n",
            "4\n",
            "5\n",
            "6\n",
            "7\n",
            "8\n",
            "9\n",
            "10\n",
            "11\n"
          ]
        }
      ],
      "source": [
        "for i in range(1,12):\n",
        "  print(i)"
      ]
    },
    {
      "cell_type": "code",
      "source": [
        "import numpy as np\n",
        "M = []\n",
        "for new_baris in range(0,12):\n",
        "  lst = []\n",
        "  for new_kolom in range(1,13):\n",
        "    lst.append(\"I(\"+str(new_kolom)+\",\"+str(new_baris+1)+\")\")\n",
        "  M.append(lst)\n",
        "\n",
        "for i in M:\n",
        "  print(i)"
      ],
      "metadata": {
        "colab": {
          "base_uri": "https://localhost:8080/"
        },
        "id": "x8lZuPuJD46l",
        "outputId": "bde221a3-e214-4c9b-c557-2d92ccc6a85e"
      },
      "execution_count": null,
      "outputs": [
        {
          "output_type": "stream",
          "name": "stdout",
          "text": [
            "['I(1,1)', 'I(2,1)', 'I(3,1)', 'I(4,1)', 'I(5,1)', 'I(6,1)', 'I(7,1)', 'I(8,1)', 'I(9,1)', 'I(10,1)', 'I(11,1)', 'I(12,1)']\n",
            "['I(1,2)', 'I(2,2)', 'I(3,2)', 'I(4,2)', 'I(5,2)', 'I(6,2)', 'I(7,2)', 'I(8,2)', 'I(9,2)', 'I(10,2)', 'I(11,2)', 'I(12,2)']\n",
            "['I(1,3)', 'I(2,3)', 'I(3,3)', 'I(4,3)', 'I(5,3)', 'I(6,3)', 'I(7,3)', 'I(8,3)', 'I(9,3)', 'I(10,3)', 'I(11,3)', 'I(12,3)']\n",
            "['I(1,4)', 'I(2,4)', 'I(3,4)', 'I(4,4)', 'I(5,4)', 'I(6,4)', 'I(7,4)', 'I(8,4)', 'I(9,4)', 'I(10,4)', 'I(11,4)', 'I(12,4)']\n",
            "['I(1,5)', 'I(2,5)', 'I(3,5)', 'I(4,5)', 'I(5,5)', 'I(6,5)', 'I(7,5)', 'I(8,5)', 'I(9,5)', 'I(10,5)', 'I(11,5)', 'I(12,5)']\n",
            "['I(1,6)', 'I(2,6)', 'I(3,6)', 'I(4,6)', 'I(5,6)', 'I(6,6)', 'I(7,6)', 'I(8,6)', 'I(9,6)', 'I(10,6)', 'I(11,6)', 'I(12,6)']\n",
            "['I(1,7)', 'I(2,7)', 'I(3,7)', 'I(4,7)', 'I(5,7)', 'I(6,7)', 'I(7,7)', 'I(8,7)', 'I(9,7)', 'I(10,7)', 'I(11,7)', 'I(12,7)']\n",
            "['I(1,8)', 'I(2,8)', 'I(3,8)', 'I(4,8)', 'I(5,8)', 'I(6,8)', 'I(7,8)', 'I(8,8)', 'I(9,8)', 'I(10,8)', 'I(11,8)', 'I(12,8)']\n",
            "['I(1,9)', 'I(2,9)', 'I(3,9)', 'I(4,9)', 'I(5,9)', 'I(6,9)', 'I(7,9)', 'I(8,9)', 'I(9,9)', 'I(10,9)', 'I(11,9)', 'I(12,9)']\n",
            "['I(1,10)', 'I(2,10)', 'I(3,10)', 'I(4,10)', 'I(5,10)', 'I(6,10)', 'I(7,10)', 'I(8,10)', 'I(9,10)', 'I(10,10)', 'I(11,10)', 'I(12,10)']\n",
            "['I(1,11)', 'I(2,11)', 'I(3,11)', 'I(4,11)', 'I(5,11)', 'I(6,11)', 'I(7,11)', 'I(8,11)', 'I(9,11)', 'I(10,11)', 'I(11,11)', 'I(12,11)']\n",
            "['I(1,12)', 'I(2,12)', 'I(3,12)', 'I(4,12)', 'I(5,12)', 'I(6,12)', 'I(7,12)', 'I(8,12)', 'I(9,12)', 'I(10,12)', 'I(11,12)', 'I(12,12)']\n"
          ]
        }
      ]
    },
    {
      "cell_type": "code",
      "source": [
        "import csv\n",
        "\n",
        "with open('coba.csv', 'w', newline='') as csvfile:\n",
        "    writer = csv.writer(csvfile)\n",
        "    writer.writerow([\"1\",\"2\",\"3\",\"4\",\"5\",\"6\",\"7\",\"8\",\"9\",\"10\",\"11\",\"12\"])  # Write the header row\n",
        "    writer.writerows(zip(M[0],M[1],M[2],M[3],M[4],M[5],M[6],M[7],M[8],M[9],M[10],M[11]))  # Write the data rows"
      ],
      "metadata": {
        "id": "t5qk6M4wEBaF"
      },
      "execution_count": null,
      "outputs": []
    },
    {
      "cell_type": "code",
      "source": [],
      "metadata": {
        "id": "iuAWcdVIMcIU"
      },
      "execution_count": null,
      "outputs": []
    }
  ]
}